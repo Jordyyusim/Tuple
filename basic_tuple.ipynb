{
 "cells": [
  {
   "cell_type": "markdown",
   "metadata": {},
   "source": [
    "# __TUPLE__\n",
    "<HR>\n",
    "<HR>"
   ]
  },
  {
   "cell_type": "markdown",
   "metadata": {},
   "source": [
    "#### In tuple, you can find the value by calling its index, just like list"
   ]
  },
  {
   "cell_type": "code",
   "execution_count": 1,
   "metadata": {},
   "outputs": [
    {
     "name": "stdout",
     "output_type": "stream",
     "text": [
      "<class 'tuple'>\n",
      "1\n",
      "(1, 3, 5)\n"
     ]
    }
   ],
   "source": [
    "x = (1, 2, 3, 4, 5)\n",
    "\n",
    "print(type(x))\n",
    "print(x[0])\n",
    "print(x[0::2])\n",
    "# print(list(x))\n",
    "# print(x.index(1))"
   ]
  },
  {
   "cell_type": "markdown",
   "metadata": {},
   "source": [
    "#### To add a value into a tuple, change the datatype to list "
   ]
  },
  {
   "cell_type": "code",
   "execution_count": null,
   "metadata": {},
   "outputs": [],
   "source": [
    "# y = list(x)\n",
    "# y[0] = 'Andi'\n",
    "# x = tuple(y)\n",
    "# # print(x)\n",
    "# # print('Andi' in x)\n",
    "# print(x.index('Andi'))"
   ]
  },
  {
   "cell_type": "markdown",
   "metadata": {},
   "source": [
    "#### * means you repeat the values of a list\n",
    "#### cant add tuple with an integer \n",
    "#### can add (+) tuple with another tuple but you're not adding them just joins them"
   ]
  },
  {
   "cell_type": "code",
   "execution_count": 4,
   "metadata": {},
   "outputs": [
    {
     "name": "stdout",
     "output_type": "stream",
     "text": [
      "(1, 2, 3, 1, 2, 3)\n",
      "(1, 2, 3, 1, 2, 3, 1, 2, 3, 1, 2, 3, 1, 2, 3)\n"
     ]
    }
   ],
   "source": [
    "x = (1,2,3)\n",
    "print(x + x)\n",
    "print(x * 5)\n",
    "# print(1 in x)\n",
    "# print(1 not in x)"
   ]
  },
  {
   "cell_type": "code",
   "execution_count": null,
   "metadata": {},
   "outputs": [],
   "source": [
    "# x = ('Andi', )\n",
    "# print(type(x))\n",
    "\n",
    "# x = 'Andi',\n",
    "# print(type(x))\n",
    "# y = 'Andi', 'Budi', 'Caca'\n",
    "# print(type(x))"
   ]
  },
  {
   "cell_type": "markdown",
   "metadata": {},
   "source": [
    "### __TUPLE IN TUPLE__"
   ]
  },
  {
   "cell_type": "code",
   "execution_count": 5,
   "metadata": {},
   "outputs": [
    {
     "name": "stdout",
     "output_type": "stream",
     "text": [
      "4\n"
     ]
    }
   ],
   "source": [
    "a = ((1, 2), (3, 4), (5, 6), (7, 8))\n",
    "print(a[1][1])"
   ]
  },
  {
   "cell_type": "markdown",
   "metadata": {},
   "source": [
    "### REVERSING INDEX IN A TUPLE\n",
    "#### Since a tuple is imuteable datatype. Change the datatype to a list."
   ]
  },
  {
   "cell_type": "code",
   "execution_count": null,
   "metadata": {},
   "outputs": [],
   "source": [
    "b = list(((a[1]), (a[0]), (a[3]), (a[2])))\n",
    "print(b)\n",
    "# print(b[0])\n",
    "b[0] = list(reversed(b[0]))\n",
    "b[1] = list(reversed(b[1]))\n",
    "b[2] = list(reversed(b[2]))\n",
    "b[3] = list(reversed(b[3]))\n",
    "b = tuple(b)\n",
    "print(b)\n",
    "# b = list(reversed(a[0]))\n",
    "# print(b)"
   ]
  },
  {
   "cell_type": "markdown",
   "metadata": {},
   "source": [
    "#### if the value of a tuple is a single string, you can add it with a string too"
   ]
  },
  {
   "cell_type": "code",
   "execution_count": 9,
   "metadata": {},
   "outputs": [
    {
     "name": "stdout",
     "output_type": "stream",
     "text": [
      "<class 'str'>\n",
      "Andih\n",
      "A\n"
     ]
    }
   ],
   "source": [
    "x = ('Andi')\n",
    "print(type(x))\n",
    "print(x + 'h')\n",
    "print(x[0])"
   ]
  },
  {
   "cell_type": "code",
   "execution_count": null,
   "metadata": {},
   "outputs": [],
   "source": []
  }
 ],
 "metadata": {
  "kernelspec": {
   "display_name": "Python 3",
   "language": "python",
   "name": "python3"
  },
  "language_info": {
   "codemirror_mode": {
    "name": "ipython",
    "version": 3
   },
   "file_extension": ".py",
   "mimetype": "text/x-python",
   "name": "python",
   "nbconvert_exporter": "python",
   "pygments_lexer": "ipython3",
   "version": "3.8.1"
  }
 },
 "nbformat": 4,
 "nbformat_minor": 4
}
